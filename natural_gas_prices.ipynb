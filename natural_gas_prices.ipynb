{
  "nbformat": 4,
  "nbformat_minor": 0,
  "metadata": {
    "colab": {
      "provenance": [],
      "authorship_tag": "ABX9TyOa78CpiDXNHyJZ81za6324",
      "include_colab_link": true
    },
    "kernelspec": {
      "name": "python3",
      "display_name": "Python 3"
    },
    "language_info": {
      "name": "python"
    }
  },
  "cells": [
    {
      "cell_type": "markdown",
      "metadata": {
        "id": "view-in-github",
        "colab_type": "text"
      },
      "source": [
        "<a href=\"https://colab.research.google.com/github/faruq2021/natural_gas_prices/blob/main/natural_gas_prices.ipynb\" target=\"_parent\"><img src=\"https://colab.research.google.com/assets/colab-badge.svg\" alt=\"Open In Colab\"/></a>"
      ]
    },
    {
      "cell_type": "code",
      "source": [],
      "metadata": {
        "id": "2y_FkT3EtKRD"
      },
      "execution_count": null,
      "outputs": []
    },
    {
      "cell_type": "code",
      "source": [
        "import requests\n",
        "from bs4 import BeautifulSoup\n",
        "import pandas as pd\n",
        "\n",
        "url = \"http://www.eia.gov/dnav/ng/hist/rngwhhdm.htm\"\n",
        "\n",
        "response = requests.get(url)\n",
        "soup = BeautifulSoup(response.content, \"html.parser\")\n",
        "\n",
        "table = soup.find(\"table\", width=\"675\", border=\"0\", cellspacing=\"0\", cellpadding=\"2\")\n",
        "rows = table.find_all(\"tr\")\n",
        "\n",
        "data = []\n",
        "for row in rows:\n",
        "    cols = row.find_all([\"th\", \"td\"])\n",
        "    cols = [col.text.strip() for col in cols if col.text.strip() != '']\n",
        "    data.append(cols)\n",
        "\n",
        "data = [row for row in data if row]\n",
        "\n",
        "df = pd.DataFrame(data[1:], columns=data[0])\n",
        "df.to_csv(\"monthly_prices.csv\", index=False)\n",
        "\n"
      ],
      "metadata": {
        "id": "rhmieTLqwprn"
      },
      "execution_count": 16,
      "outputs": []
    },
    {
      "cell_type": "code",
      "source": [
        "\n"
      ],
      "metadata": {
        "id": "wkY28vdVz4sN"
      },
      "execution_count": 12,
      "outputs": []
    }
  ]
}